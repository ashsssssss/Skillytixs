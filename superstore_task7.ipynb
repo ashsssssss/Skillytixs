{
 "cells": [
  {
   "cell_type": "markdown",
   "id": "9298d21f",
   "metadata": {},
   "source": [
    "\n",
    "# Task 7: Visualizing Sales Trends and Customer Behavior\n",
    "\n",
    "**Objective:** Explore and communicate insights from the Superstore dataset using Python visualizations.\n",
    "\n",
    "Dataset Path (update if needed):  \n",
    "`C:\\Users\\admin\\OneDrive\\Desktop\\skillyt\\superstore(in).csv`\n"
   ]
  },
  {
   "cell_type": "code",
   "execution_count": null,
   "id": "d7890200",
   "metadata": {},
   "outputs": [],
   "source": [
    "\n",
    "# Step 1: Imports\n",
    "import pandas as pd\n",
    "import matplotlib.pyplot as plt\n",
    "import seaborn as sns\n",
    "\n",
    "# Settings\n",
    "sns.set_style(\"whitegrid\")\n"
   ]
  },
  {
   "cell_type": "code",
   "execution_count": null,
   "id": "1b9ccd63",
   "metadata": {},
   "outputs": [],
   "source": [
    "\n",
    "# Step 2: Load dataset\n",
    "file_path = r\"C:\\Users\\admin\\OneDrive\\Desktop\\skillyt\\superstore(in).csv\"\n",
    "df = pd.read_csv(file_path, encoding='latin1')\n",
    "\n",
    "print(\"Data shape:\", df.shape)\n",
    "df.head()\n"
   ]
  },
  {
   "cell_type": "code",
   "execution_count": null,
   "id": "4bb6f85d",
   "metadata": {},
   "outputs": [],
   "source": [
    "\n",
    "# Step 3: Basic EDA\n",
    "print(df.info())\n",
    "df.describe(include=\"all\")\n"
   ]
  },
  {
   "cell_type": "code",
   "execution_count": null,
   "id": "3be9a2cc",
   "metadata": {},
   "outputs": [],
   "source": [
    "\n",
    "# Step 4: Sales by Category\n",
    "plt.figure(figsize=(8,6))\n",
    "sns.barplot(x=\"Category\", y=\"Sales\", data=df, estimator=sum, ci=None)\n",
    "plt.title(\"Total Sales by Category\")\n",
    "plt.xticks(rotation=45)\n",
    "plt.tight_layout()\n",
    "plt.show()\n"
   ]
  },
  {
   "cell_type": "code",
   "execution_count": null,
   "id": "8c51ce84",
   "metadata": {},
   "outputs": [],
   "source": [
    "\n",
    "# Step 5: Sales by Region\n",
    "plt.figure(figsize=(8,6))\n",
    "sns.barplot(x=\"Region\", y=\"Sales\", data=df, estimator=sum, ci=None)\n",
    "plt.title(\"Total Sales by Region\")\n",
    "plt.tight_layout()\n",
    "plt.show()\n"
   ]
  },
  {
   "cell_type": "code",
   "execution_count": null,
   "id": "f4b9a4f9",
   "metadata": {},
   "outputs": [],
   "source": [
    "\n",
    "# Step 6: Sales Trend Over Time\n",
    "df['Order Date'] = pd.to_datetime(df['Order Date'])\n",
    "sales_trend = df.groupby('Order Date')['Sales'].sum().reset_index()\n",
    "\n",
    "plt.figure(figsize=(12,6))\n",
    "sns.lineplot(x=\"Order Date\", y=\"Sales\", data=sales_trend)\n",
    "plt.title(\"Sales Trend Over Time\")\n",
    "plt.tight_layout()\n",
    "plt.show()\n"
   ]
  },
  {
   "cell_type": "code",
   "execution_count": null,
   "id": "23390682",
   "metadata": {},
   "outputs": [],
   "source": [
    "\n",
    "# Step 7: Profit vs Discount\n",
    "plt.figure(figsize=(8,6))\n",
    "sns.scatterplot(x=\"Discount\", y=\"Profit\", data=df)\n",
    "plt.title(\"Profit vs Discount\")\n",
    "plt.tight_layout()\n",
    "plt.show()\n"
   ]
  },
  {
   "cell_type": "code",
   "execution_count": null,
   "id": "6e4bebb1",
   "metadata": {},
   "outputs": [],
   "source": [
    "\n",
    "# Step 8: Correlation Heatmap (numeric variables)\n",
    "plt.figure(figsize=(10,6))\n",
    "sns.heatmap(df.corr(numeric_only=True), annot=True, cmap=\"coolwarm\", fmt=\".2f\")\n",
    "plt.title(\"Correlation Heatmap\")\n",
    "plt.tight_layout()\n",
    "plt.show()\n"
   ]
  },
  {
   "cell_type": "code",
   "execution_count": null,
   "id": "ed646563",
   "metadata": {},
   "outputs": [],
   "source": [
    "\n",
    "# Step 9: Customer Segment Analysis\n",
    "plt.figure(figsize=(8,6))\n",
    "sns.barplot(x=\"Segment\", y=\"Sales\", data=df, estimator=sum, ci=None)\n",
    "plt.title(\"Total Sales by Customer Segment\")\n",
    "plt.tight_layout()\n",
    "plt.show()\n"
   ]
  },
  {
   "cell_type": "markdown",
   "id": "6c51006b",
   "metadata": {},
   "source": [
    "\n",
    "---\n",
    "### Insights to Highlight:\n",
    "- Which category/region generates the most sales?\n",
    "- Are there seasonal or yearly spikes in sales?\n",
    "- Does discounting improve or hurt profitability?\n",
    "- Which customer segment drives the most revenue?\n",
    "\n",
    "This notebook gives a foundation — you can extend it with dashboards (e.g., Plotly, Power BI) for interactive exploration.\n"
   ]
  }
 ],
 "metadata": {},
 "nbformat": 4,
 "nbformat_minor": 5
}
