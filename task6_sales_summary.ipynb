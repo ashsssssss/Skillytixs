{
 "cells": [
  {
   "cell_type": "markdown",
   "id": "9427eef3",
   "metadata": {},
   "source": [
    "\n",
    "# Task 6: Get Basic Sales Summary from a Tiny SQLite Database\n",
    "\n",
    "**Objective:** Use SQL inside Python to pull simple sales info (total quantity sold, total revenue), and display it with print statements and a bar chart.\n",
    "\n",
    "---\n"
   ]
  },
  {
   "cell_type": "code",
   "execution_count": null,
   "id": "9472ad92",
   "metadata": {},
   "outputs": [],
   "source": [
    "\n",
    "# Step 1: Imports\n",
    "import sqlite3\n",
    "import pandas as pd\n",
    "import matplotlib.pyplot as plt\n",
    "\n",
    "# Display settings\n",
    "pd.set_option(\"display.max_columns\", 50)\n"
   ]
  },
  {
   "cell_type": "code",
   "execution_count": null,
   "id": "df9831d2",
   "metadata": {},
   "outputs": [],
   "source": [
    "\n",
    "# Step 2: Connect to the SQLite database\n",
    "# Make sure sales_data.db is in the same folder as this notebook, or adjust the path accordingly.\n",
    "conn = sqlite3.connect(\"sales_data.db\")\n",
    "print(\"Connected to database successfully!\")\n"
   ]
  },
  {
   "cell_type": "code",
   "execution_count": null,
   "id": "26328cc6",
   "metadata": {},
   "outputs": [],
   "source": [
    "\n",
    "# Step 3: Run SQL query to calculate total quantity and revenue per product\n",
    "query = '''\n",
    "SELECT \n",
    "    product, \n",
    "    SUM(quantity) AS total_qty, \n",
    "    SUM(quantity * price) AS revenue\n",
    "FROM sales\n",
    "GROUP BY product\n",
    "ORDER BY revenue DESC\n",
    "'''\n",
    "df = pd.read_sql_query(query, conn)\n",
    "print(\"Sales summary:\")\n",
    "print(df)\n"
   ]
  },
  {
   "cell_type": "code",
   "execution_count": null,
   "id": "b44ee031",
   "metadata": {},
   "outputs": [],
   "source": [
    "\n",
    "# Step 4: Plot revenue by product\n",
    "plt.figure(figsize=(8,6))\n",
    "plt.bar(df['product'], df['revenue'], color='skyblue')\n",
    "plt.title(\"Revenue by Product\")\n",
    "plt.xlabel(\"Product\")\n",
    "plt.ylabel(\"Revenue\")\n",
    "plt.xticks(rotation=45)\n",
    "plt.tight_layout()\n",
    "plt.show()\n"
   ]
  },
  {
   "cell_type": "markdown",
   "id": "9565949e",
   "metadata": {},
   "source": [
    "\n",
    "---\n",
    "### Notes:\n",
    "- This notebook connects to a local SQLite database (`sales_data.db`).\n",
    "- The SQL query uses **GROUP BY** to aggregate sales per product.\n",
    "- Revenue is calculated as `quantity * price`.\n",
    "- You can extend this by filtering on dates, customers, or regions.\n",
    "\n",
    "**Next steps:** Try joining with other tables if available (e.g., customers, regions) to analyze sales by geography or customer type.\n"
   ]
  }
 ],
 "metadata": {},
 "nbformat": 4,
 "nbformat_minor": 5
}
