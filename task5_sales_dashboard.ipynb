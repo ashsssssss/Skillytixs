{
 "cells": [
  {
   "cell_type": "markdown",
   "id": "c1d157ce",
   "metadata": {},
   "source": [
    "\n",
    "# Task 5: Sales & Financial Dashboard (Python Visualization)\n",
    "\n",
    "**Objective:** Although this task is designed for Power BI/Tableau, here we will use Python to create an equivalent dashboard-like experience with static and interactive charts.\n",
    "\n",
    "We will cover:\n",
    "- KPIs: Total Sales, Total Profit, Profit Margin\n",
    "- Sales trends over time\n",
    "- Regional and category breakdowns\n",
    "- Correlation heatmap\n",
    "- Interactive visualizations (Plotly)\n"
   ]
  },
  {
   "cell_type": "code",
   "execution_count": null,
   "id": "7015b807",
   "metadata": {},
   "outputs": [],
   "source": [
    "\n",
    "# Step 1: Imports\n",
    "import pandas as pd\n",
    "import matplotlib.pyplot as plt\n",
    "import seaborn as sns\n",
    "import plotly.express as px\n",
    "\n",
    "sns.set_style(\"whitegrid\")\n"
   ]
  },
  {
   "cell_type": "code",
   "execution_count": null,
   "id": "7653b3f9",
   "metadata": {},
   "outputs": [],
   "source": [
    "\n",
    "# Step 2: Load dataset\n",
    "# For this example, we will use the Superstore dataset (replace with any Kaggle financial dataset you download).\n",
    "# Example: 'superstore(in).csv' from previous tasks\n",
    "file_path = r\"C:\\Users\\admin\\OneDrive\\Desktop\\skillyt\\superstore(in).csv\"\n",
    "df = pd.read_csv(file_path, encoding='latin1')\n",
    "\n",
    "print(\"Data shape:\", df.shape)\n",
    "df.head()\n"
   ]
  },
  {
   "cell_type": "code",
   "execution_count": null,
   "id": "26c96489",
   "metadata": {},
   "outputs": [],
   "source": [
    "\n",
    "# Step 3: KPI calculations\n",
    "total_sales = df['Sales'].sum()\n",
    "total_profit = df['Profit'].sum()\n",
    "profit_margin = (total_profit / total_sales) * 100\n",
    "\n",
    "print(\"Total Sales: ${:,.2f}\".format(total_sales))\n",
    "print(\"Total Profit: ${:,.2f}\".format(total_profit))\n",
    "print(\"Profit Margin: {:.2f}%\".format(profit_margin))\n"
   ]
  },
  {
   "cell_type": "code",
   "execution_count": null,
   "id": "0e5e524a",
   "metadata": {},
   "outputs": [],
   "source": [
    "\n",
    "# Step 4: Sales trend over time\n",
    "df['Order Date'] = pd.to_datetime(df['Order Date'])\n",
    "sales_trend = df.groupby('Order Date')['Sales'].sum().reset_index()\n",
    "\n",
    "plt.figure(figsize=(12,6))\n",
    "sns.lineplot(x='Order Date', y='Sales', data=sales_trend)\n",
    "plt.title(\"Sales Trend Over Time\")\n",
    "plt.tight_layout()\n",
    "plt.show()\n",
    "\n",
    "# Interactive version with Plotly\n",
    "fig = px.line(sales_trend, x='Order Date', y='Sales', title=\"Sales Trend Over Time (Interactive)\")\n",
    "fig.show()\n"
   ]
  },
  {
   "cell_type": "code",
   "execution_count": null,
   "id": "b72c0102",
   "metadata": {},
   "outputs": [],
   "source": [
    "\n",
    "# Step 5: Sales by Region and Category\n",
    "plt.figure(figsize=(8,6))\n",
    "sns.barplot(x='Region', y='Sales', data=df, estimator=sum, ci=None)\n",
    "plt.title(\"Total Sales by Region\")\n",
    "plt.tight_layout()\n",
    "plt.show()\n",
    "\n",
    "plt.figure(figsize=(8,6))\n",
    "sns.barplot(x='Category', y='Sales', data=df, estimator=sum, ci=None)\n",
    "plt.title(\"Total Sales by Category\")\n",
    "plt.tight_layout()\n",
    "plt.show()\n",
    "\n",
    "# Interactive with Plotly\n",
    "fig = px.bar(df.groupby('Category')['Sales'].sum().reset_index(), \n",
    "             x='Category', y='Sales', title=\"Total Sales by Category (Interactive)\")\n",
    "fig.show()\n"
   ]
  },
  {
   "cell_type": "code",
   "execution_count": null,
   "id": "b25806d6",
   "metadata": {},
   "outputs": [],
   "source": [
    "\n",
    "# Step 6: Profitability by Sub-Category\n",
    "profit_sub = df.groupby('Sub-Category')['Profit'].sum().reset_index().sort_values(by='Profit', ascending=False)\n",
    "\n",
    "plt.figure(figsize=(10,6))\n",
    "sns.barplot(x='Profit', y='Sub-Category', data=profit_sub)\n",
    "plt.title(\"Profit by Sub-Category\")\n",
    "plt.tight_layout()\n",
    "plt.show()\n"
   ]
  },
  {
   "cell_type": "code",
   "execution_count": null,
   "id": "e4d2db36",
   "metadata": {},
   "outputs": [],
   "source": [
    "\n",
    "# Step 7: Correlation heatmap for numeric fields\n",
    "plt.figure(figsize=(10,6))\n",
    "sns.heatmap(df.corr(numeric_only=True), annot=True, cmap='coolwarm', fmt='.2f')\n",
    "plt.title(\"Correlation Heatmap\")\n",
    "plt.tight_layout()\n",
    "plt.show()\n"
   ]
  },
  {
   "cell_type": "markdown",
   "id": "7c437cd3",
   "metadata": {},
   "source": [
    "\n",
    "---\n",
    "### Insights to Cover (from PDF Task 5 requirements):\n",
    "- **KPIs**: We computed Total Sales, Profit, Profit Margin.  \n",
    "- **Trends**: Sales over time visualized with line charts.  \n",
    "- **Breakdowns**: Sales by Region, Category, and profitability by Sub-Category.  \n",
    "- **Correlation**: Heatmap for numeric relationships (e.g., Sales, Profit, Discount).  \n",
    "- **Interactivity**: Plotly charts included for exploration.  \n",
    "\n",
    "This Python notebook mimics a Power BI dashboard but in a Jupyter environment.  \n"
   ]
  }
 ],
 "metadata": {},
 "nbformat": 4,
 "nbformat_minor": 5
}
